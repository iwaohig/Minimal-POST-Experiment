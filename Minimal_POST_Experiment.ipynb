{
  "nbformat": 4,
  "nbformat_minor": 0,
  "metadata": {
    "colab": {
      "provenance": [],
      "authorship_tag": "ABX9TyM4bogF6JRw/4tpZmtoM3cJ",
      "include_colab_link": true
    },
    "kernelspec": {
      "name": "python3",
      "display_name": "Python 3"
    },
    "language_info": {
      "name": "python"
    }
  },
  "cells": [
    {
      "cell_type": "markdown",
      "metadata": {
        "id": "view-in-github",
        "colab_type": "text"
      },
      "source": [
        "<a href=\"https://colab.research.google.com/github/iwaohig/Minimal-POST-Experiment/blob/main/Minimal_POST_Experiment.ipynb\" target=\"_parent\"><img src=\"https://colab.research.google.com/assets/colab-badge.svg\" alt=\"Open In Colab\"/></a>"
      ]
    },
    {
      "cell_type": "code",
      "execution_count": 1,
      "metadata": {
        "id": "3GbWMYEt-_vw"
      },
      "outputs": [],
      "source": [
        "api_url = '' # @param {type:\"string\"}\n",
        "data_json = \"\" # @param {type:\"string\"}\n",
        "auth_token = '' # @param {type:\"string\"}\n",
        "\n",
        "# JSON文字列を辞書に変換\n",
        "import json\n",
        "data = json.loads(data_json)\n"
      ]
    },
    {
      "cell_type": "code",
      "source": [
        "# requests ライブラリのインポート\n",
        "import requests\n",
        "\n",
        "# ヘッダーの設定\n",
        "headers = {\n",
        "    'Content-Type': 'application/json',\n",
        "    'Authorization': auth_token,\n",
        "}\n",
        "\n",
        "# POSTリクエストの実行\n",
        "response = requests.post(api_url, data=data_json, headers=headers)\n",
        "\n",
        "# ステータスコードの確認\n",
        "print(f\"ステータスコード: {response.status_code}\")\n",
        "\n",
        "# レスポンスヘッダーをチェックして、Content-Typeがapplication/jsonであるか確認\n",
        "if 'application/json' in response.headers.get('Content-Type', ''):\n",
        "\n",
        "    # JSONデータの安全な処理\n",
        "    try:\n",
        "        data = response.json()\n",
        "        print(\"APIレスポンス (JSON):\", data)\n",
        "    except ValueError:  # JSONデコードエラーを捕捉\n",
        "        print(\"JSON形式のデータではありません。レスポンスボディ:\", response.text)\n",
        "else:\n",
        "    print(\"レスポンスはJSON形式ではありません。レスポンスボディ:\", response.text)\n",
        "\n",
        "# エラーステータスコードの場合の処理\n",
        "if not response.status_code in [200, 201]:\n",
        "    print(f\"エラー発生: ステータスコード {response.status_code}, レスポンス: {response.text}\")"
      ],
      "metadata": {
        "id": "CH5ANgvJPD1w"
      },
      "execution_count": null,
      "outputs": []
    }
  ]
}